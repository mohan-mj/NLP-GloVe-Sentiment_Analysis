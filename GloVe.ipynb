{
  "nbformat": 4,
  "nbformat_minor": 0,
  "metadata": {
    "colab": {
      "name": "GloVe Visualization.ipynb",
      "provenance": [],
      "authorship_tag": "ABX9TyPXmo4gYIfRxSfHKotffjmw",
      "include_colab_link": true
    },
    "kernelspec": {
      "name": "python3",
      "display_name": "Python 3"
    }
  },
  "cells": [
    {
      "cell_type": "markdown",
      "metadata": {
        "id": "view-in-github",
        "colab_type": "text"
      },
      "source": [
        "<a href=\"https://colab.research.google.com/github/mohan-mj/NLP-GloVe-Sentiment_Analysis/blob/master/GloVe_Visualization.ipynb\" target=\"_parent\"><img src=\"https://colab.research.google.com/assets/colab-badge.svg\" alt=\"Open In Colab\"/></a>"
      ]
    },
    {
      "cell_type": "code",
      "metadata": {
        "id": "k3SNRTjrYE0W",
        "colab_type": "code",
        "colab": {}
      },
      "source": [
        "from __future__ import print_function, division\n",
        "from future.utils import iteritems\n",
        "from builtins import range"
      ],
      "execution_count": 1,
      "outputs": []
    },
    {
      "cell_type": "code",
      "metadata": {
        "id": "QezDamK9fDnb",
        "colab_type": "code",
        "colab": {}
      },
      "source": [
        "import numpy as np\n",
        "from sklearn.metrics.pairwise import pairwise_distances"
      ],
      "execution_count": 9,
      "outputs": []
    },
    {
      "cell_type": "code",
      "metadata": {
        "id": "66GY1RVAYPQ3",
        "colab_type": "code",
        "colab": {
          "base_uri": "https://localhost:8080/",
          "height": 353
        },
        "outputId": "0e9dc555-d18d-4746-9bd6-9307b15f9c1c"
      },
      "source": [
        "!wget http://nlp.stanford.edu/data/glove.6B.zip"
      ],
      "execution_count": 2,
      "outputs": [
        {
          "output_type": "stream",
          "text": [
            "--2020-09-19 08:54:16--  http://nlp.stanford.edu/data/glove.6B.zip\n",
            "Resolving nlp.stanford.edu (nlp.stanford.edu)... 171.64.67.140\n",
            "Connecting to nlp.stanford.edu (nlp.stanford.edu)|171.64.67.140|:80... connected.\n",
            "HTTP request sent, awaiting response... 302 Found\n",
            "Location: https://nlp.stanford.edu/data/glove.6B.zip [following]\n",
            "--2020-09-19 08:54:16--  https://nlp.stanford.edu/data/glove.6B.zip\n",
            "Connecting to nlp.stanford.edu (nlp.stanford.edu)|171.64.67.140|:443... connected.\n",
            "HTTP request sent, awaiting response... 301 Moved Permanently\n",
            "Location: http://downloads.cs.stanford.edu/nlp/data/glove.6B.zip [following]\n",
            "--2020-09-19 08:54:16--  http://downloads.cs.stanford.edu/nlp/data/glove.6B.zip\n",
            "Resolving downloads.cs.stanford.edu (downloads.cs.stanford.edu)... 171.64.64.22\n",
            "Connecting to downloads.cs.stanford.edu (downloads.cs.stanford.edu)|171.64.64.22|:80... connected.\n",
            "HTTP request sent, awaiting response... 200 OK\n",
            "Length: 862182613 (822M) [application/zip]\n",
            "Saving to: ‘glove.6B.zip’\n",
            "\n",
            "glove.6B.zip        100%[===================>] 822.24M  1.93MB/s    in 6m 28s  \n",
            "\n",
            "2020-09-19 09:00:45 (2.12 MB/s) - ‘glove.6B.zip’ saved [862182613/862182613]\n",
            "\n"
          ],
          "name": "stdout"
        }
      ]
    },
    {
      "cell_type": "code",
      "metadata": {
        "id": "R9tdyKDQZBSZ",
        "colab_type": "code",
        "colab": {
          "base_uri": "https://localhost:8080/",
          "height": 101
        },
        "outputId": "8335d040-7bd0-4986-88ce-8443c2b53298"
      },
      "source": [
        "!unzip glove.6B.zip"
      ],
      "execution_count": 3,
      "outputs": [
        {
          "output_type": "stream",
          "text": [
            "Archive:  glove.6B.zip\n",
            "  inflating: glove.6B.50d.txt        \n",
            "  inflating: glove.6B.100d.txt       \n",
            "  inflating: glove.6B.200d.txt       \n",
            "  inflating: glove.6B.300d.txt       \n"
          ],
          "name": "stdout"
        }
      ]
    },
    {
      "cell_type": "code",
      "metadata": {
        "id": "wSQibitKeKsE",
        "colab_type": "code",
        "colab": {}
      },
      "source": [
        "def dist1(a, b):\n",
        "    return np.linalg.norm(a - b)\n",
        "def dist2(a, b):\n",
        "    return 1 - a.dot(b) / (np.linalg.norm(a) * np.linalg.norm(b))"
      ],
      "execution_count": 4,
      "outputs": []
    },
    {
      "cell_type": "code",
      "metadata": {
        "id": "lpVes9-Kem8x",
        "colab_type": "code",
        "colab": {}
      },
      "source": [
        "# pick a distance type\n",
        "dist, metric = dist2, 'cosine'"
      ],
      "execution_count": 5,
      "outputs": []
    },
    {
      "cell_type": "code",
      "metadata": {
        "id": "h-sze79Kewo1",
        "colab_type": "code",
        "colab": {}
      },
      "source": [
        "def find_analogies(w1, w2, w3):\n",
        "  for w in (w1, w2, w3):\n",
        "    if w not in word2vec:\n",
        "      print(\"%s not in dictionary\" % w)\n",
        "      return\n",
        "\n",
        "  king = word2vec[w1]\n",
        "  man = word2vec[w2]\n",
        "  woman = word2vec[w3]\n",
        "  v0 = king - man + woman\n",
        "\n",
        "  distances = pairwise_distances(v0.reshape(1, D), embedding, metric=metric).reshape(V)\n",
        "  idxs = distances.argsort()[:4]\n",
        "  for idx in idxs:\n",
        "    word = idx2word[idx]\n",
        "    if word not in (w1, w2, w3): \n",
        "      best_word = word\n",
        "      break\n",
        "\n",
        "  print(w1, \"-\", w2, \"=\", best_word, \"-\", w3)"
      ],
      "execution_count": 6,
      "outputs": []
    },
    {
      "cell_type": "code",
      "metadata": {
        "id": "rS_7Z9b_e1M1",
        "colab_type": "code",
        "colab": {}
      },
      "source": [
        "def nearest_neighbors(w, n=5):\n",
        "  if w not in word2vec:\n",
        "    print(\"%s not in dictionary:\" % w)\n",
        "    return\n",
        "\n",
        "  v = word2vec[w]\n",
        "  distances = pairwise_distances(v.reshape(1, D), embedding, metric=metric).reshape(V)\n",
        "  idxs = distances.argsort()[1:n+1]\n",
        "  print(\"neighbors of: %s\" % w)\n",
        "  for idx in idxs:\n",
        "    print(\"\\t%s\" % idx2word[idx])"
      ],
      "execution_count": 7,
      "outputs": []
    },
    {
      "cell_type": "code",
      "metadata": {
        "id": "GbNf-Y-Ve3Lw",
        "colab_type": "code",
        "colab": {
          "base_uri": "https://localhost:8080/",
          "height": 50
        },
        "outputId": "593bc4e8-28a5-40cb-afea-44c999374dc9"
      },
      "source": [
        "# load in pre-trained word vectors\n",
        "print('Loading word vectors...')\n",
        "word2vec = {}\n",
        "embedding = []\n",
        "idx2word = []\n",
        "with open('glove.6B.50d.txt', encoding='utf-8') as f:\n",
        "  # is just a space-separated text file in the format:\n",
        "  # word vec[0] vec[1] vec[2] ...\n",
        "  for line in f:\n",
        "    values = line.split()\n",
        "    word = values[0]\n",
        "    vec = np.asarray(values[1:], dtype='float32')\n",
        "    word2vec[word] = vec\n",
        "    embedding.append(vec)\n",
        "    idx2word.append(word)\n",
        "print('Found %s word vectors.' % len(word2vec))"
      ],
      "execution_count": 10,
      "outputs": [
        {
          "output_type": "stream",
          "text": [
            "Loading word vectors...\n",
            "Found 400000 word vectors.\n"
          ],
          "name": "stdout"
        }
      ]
    },
    {
      "cell_type": "code",
      "metadata": {
        "id": "wrHBZNkHe_72",
        "colab_type": "code",
        "colab": {}
      },
      "source": [
        "embedding = np.array(embedding)\n",
        "V, D = embedding.shape"
      ],
      "execution_count": 11,
      "outputs": []
    },
    {
      "cell_type": "code",
      "metadata": {
        "id": "ySN3pxHJfI0y",
        "colab_type": "code",
        "colab": {
          "base_uri": "https://localhost:8080/",
          "height": 34
        },
        "outputId": "785e1211-8b57-41c1-c66f-f8d41de9a551"
      },
      "source": [
        "print('Embedding vector dimension (V x D) : ', V, D)"
      ],
      "execution_count": 14,
      "outputs": [
        {
          "output_type": "stream",
          "text": [
            "Embedding vector dimension (V x D) :  400000 50\n"
          ],
          "name": "stdout"
        }
      ]
    },
    {
      "cell_type": "code",
      "metadata": {
        "id": "x9vTenGpfMjE",
        "colab_type": "code",
        "colab": {
          "base_uri": "https://localhost:8080/",
          "height": 34
        },
        "outputId": "a5ec2d72-4b7a-4465-9063-dbefbacd43c1"
      },
      "source": [
        "find_analogies('king', 'man', 'woman')"
      ],
      "execution_count": 15,
      "outputs": [
        {
          "output_type": "stream",
          "text": [
            "king - man = queen - woman\n"
          ],
          "name": "stdout"
        }
      ]
    },
    {
      "cell_type": "code",
      "metadata": {
        "id": "z5XKwKJ3fZl3",
        "colab_type": "code",
        "colab": {
          "base_uri": "https://localhost:8080/",
          "height": 34
        },
        "outputId": "4ef2f750-d60a-4682-bda4-662da91177d0"
      },
      "source": [
        "find_analogies('france', 'paris', 'london')"
      ],
      "execution_count": 16,
      "outputs": [
        {
          "output_type": "stream",
          "text": [
            "france - paris = britain - london\n"
          ],
          "name": "stdout"
        }
      ]
    },
    {
      "cell_type": "code",
      "metadata": {
        "id": "hfMfy1vefcCS",
        "colab_type": "code",
        "colab": {
          "base_uri": "https://localhost:8080/",
          "height": 34
        },
        "outputId": "f7006e8f-1e42-4b7b-f6f6-0f6aa0761ec5"
      },
      "source": [
        "find_analogies('france', 'paris', 'rome')"
      ],
      "execution_count": 17,
      "outputs": [
        {
          "output_type": "stream",
          "text": [
            "france - paris = italy - rome\n"
          ],
          "name": "stdout"
        }
      ]
    },
    {
      "cell_type": "code",
      "metadata": {
        "id": "3_SR7aOJfek7",
        "colab_type": "code",
        "colab": {
          "base_uri": "https://localhost:8080/",
          "height": 50
        },
        "outputId": "72772610-a5e3-4fab-a3a6-427d626a942a"
      },
      "source": [
        "find_analogies('december', 'november', 'june')\n",
        "\n",
        "find_analogies('man', 'woman', 'actress')"
      ],
      "execution_count": 19,
      "outputs": [
        {
          "output_type": "stream",
          "text": [
            "december - november = july - june\n",
            "man - woman = actor - actress\n"
          ],
          "name": "stdout"
        }
      ]
    },
    {
      "cell_type": "code",
      "metadata": {
        "id": "6fffubptfosB",
        "colab_type": "code",
        "colab": {
          "base_uri": "https://localhost:8080/",
          "height": 34
        },
        "outputId": "7bac8da7-e8e9-478d-80b6-e2f16ce23327"
      },
      "source": [
        "find_analogies('february', 'january', 'november')"
      ],
      "execution_count": 20,
      "outputs": [
        {
          "output_type": "stream",
          "text": [
            "february - january = october - november\n"
          ],
          "name": "stdout"
        }
      ]
    },
    {
      "cell_type": "code",
      "metadata": {
        "id": "KdZEpZn-fvs3",
        "colab_type": "code",
        "colab": {
          "base_uri": "https://localhost:8080/",
          "height": 823
        },
        "outputId": "da8be306-301e-47a7-ac4c-40c098184088"
      },
      "source": [
        "nearest_neighbors('king')\n",
        "nearest_neighbors('france')\n",
        "nearest_neighbors('japan')\n",
        "nearest_neighbors('einstein')\n",
        "nearest_neighbors('woman')\n",
        "nearest_neighbors('nephew')\n",
        "nearest_neighbors('february')\n",
        "nearest_neighbors('rome')"
      ],
      "execution_count": 21,
      "outputs": [
        {
          "output_type": "stream",
          "text": [
            "neighbors of: king\n",
            "\tprince\n",
            "\tqueen\n",
            "\tii\n",
            "\temperor\n",
            "\tson\n",
            "neighbors of: france\n",
            "\tfrench\n",
            "\tbelgium\n",
            "\tparis\n",
            "\tspain\n",
            "\tnetherlands\n",
            "neighbors of: japan\n",
            "\tjapanese\n",
            "\tchina\n",
            "\tkorea\n",
            "\ttokyo\n",
            "\ttaiwan\n",
            "neighbors of: einstein\n",
            "\trelativity\n",
            "\tbohr\n",
            "\tphysics\n",
            "\theisenberg\n",
            "\tfreud\n",
            "neighbors of: woman\n",
            "\tgirl\n",
            "\tman\n",
            "\tmother\n",
            "\ther\n",
            "\tboy\n",
            "neighbors of: nephew\n",
            "\tcousin\n",
            "\tbrother\n",
            "\tgrandson\n",
            "\tson\n",
            "\tuncle\n",
            "neighbors of: february\n",
            "\toctober\n",
            "\tdecember\n",
            "\tjanuary\n",
            "\taugust\n",
            "\tseptember\n",
            "neighbors of: rome\n",
            "\tnaples\n",
            "\tvenice\n",
            "\titaly\n",
            "\tturin\n",
            "\tpope\n"
          ],
          "name": "stdout"
        }
      ]
    },
    {
      "cell_type": "code",
      "metadata": {
        "id": "PVPZ_IiYfyS4",
        "colab_type": "code",
        "colab": {}
      },
      "source": [
        ""
      ],
      "execution_count": null,
      "outputs": []
    }
  ]
}
